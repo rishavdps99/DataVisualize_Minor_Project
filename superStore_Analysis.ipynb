{
  "nbformat": 4,
  "nbformat_minor": 0,
  "metadata": {
    "colab": {
      "name": "superStore Analysis",
      "provenance": [],
      "collapsed_sections": [],
      "mount_file_id": "1Uac_7Wq-l7pPbxoAwO7y0Vo_Ad7JgPMl",
      "authorship_tag": "ABX9TyMac0RqohEJXvpJYUlOmZwh",
      "include_colab_link": true
    },
    "kernelspec": {
      "name": "python3",
      "display_name": "Python 3"
    }
  },
  "cells": [
    {
      "cell_type": "markdown",
      "metadata": {
        "id": "view-in-github",
        "colab_type": "text"
      },
      "source": [
        "<a href=\"https://colab.research.google.com/github/rishavdps99/DataVisualize_Minor_Project/blob/master/superStore_Analysis.ipynb\" target=\"_parent\"><img src=\"https://colab.research.google.com/assets/colab-badge.svg\" alt=\"Open In Colab\"/></a>"
      ]
    },
    {
      "cell_type": "code",
      "metadata": {
        "id": "Bog5_dB7ytx8"
      },
      "source": [
        "import pandas as pd\n",
        "import numpy as np\n"
      ],
      "execution_count": null,
      "outputs": []
    },
    {
      "cell_type": "code",
      "metadata": {
        "id": "wylHcxPMqV-y"
      },
      "source": [
        "data=pd.read_excel('/content/drive/My Drive/Sample-sales-data-excel.xls')"
      ],
      "execution_count": null,
      "outputs": []
    },
    {
      "cell_type": "code",
      "metadata": {
        "id": "zyGaYrRXqjIH",
        "outputId": "2cb85d04-76e9-42ea-8d08-0d81eeb26ae4",
        "colab": {
          "base_uri": "https://localhost:8080/",
          "height": 548
        }
      },
      "source": [
        "data.head(5)"
      ],
      "execution_count": null,
      "outputs": [
        {
          "output_type": "execute_result",
          "data": {
            "text/html": [
              "<div>\n",
              "<style scoped>\n",
              "    .dataframe tbody tr th:only-of-type {\n",
              "        vertical-align: middle;\n",
              "    }\n",
              "\n",
              "    .dataframe tbody tr th {\n",
              "        vertical-align: top;\n",
              "    }\n",
              "\n",
              "    .dataframe thead th {\n",
              "        text-align: right;\n",
              "    }\n",
              "</style>\n",
              "<table border=\"1\" class=\"dataframe\">\n",
              "  <thead>\n",
              "    <tr style=\"text-align: right;\">\n",
              "      <th></th>\n",
              "      <th>Row ID</th>\n",
              "      <th>Order ID</th>\n",
              "      <th>Order Date</th>\n",
              "      <th>Ship Date</th>\n",
              "      <th>Ship Mode</th>\n",
              "      <th>Customer ID</th>\n",
              "      <th>Customer Name</th>\n",
              "      <th>Segment</th>\n",
              "      <th>Country</th>\n",
              "      <th>City</th>\n",
              "      <th>State</th>\n",
              "      <th>Postal Code</th>\n",
              "      <th>Region</th>\n",
              "      <th>Product ID</th>\n",
              "      <th>Category</th>\n",
              "      <th>Sub-Category</th>\n",
              "      <th>Product Name</th>\n",
              "      <th>Sales</th>\n",
              "      <th>Quantity</th>\n",
              "      <th>Discount</th>\n",
              "      <th>Profit</th>\n",
              "    </tr>\n",
              "  </thead>\n",
              "  <tbody>\n",
              "    <tr>\n",
              "      <th>0</th>\n",
              "      <td>1</td>\n",
              "      <td>CA-2016-152156</td>\n",
              "      <td>2016-11-08</td>\n",
              "      <td>2016-11-11</td>\n",
              "      <td>Second Class</td>\n",
              "      <td>CG-12520</td>\n",
              "      <td>Claire Gute</td>\n",
              "      <td>Consumer</td>\n",
              "      <td>United States</td>\n",
              "      <td>Henderson</td>\n",
              "      <td>Kentucky</td>\n",
              "      <td>42420</td>\n",
              "      <td>South</td>\n",
              "      <td>FUR-BO-10001798</td>\n",
              "      <td>Furniture</td>\n",
              "      <td>Bookcases</td>\n",
              "      <td>Bush Somerset Collection Bookcase</td>\n",
              "      <td>261.9600</td>\n",
              "      <td>2</td>\n",
              "      <td>0.00</td>\n",
              "      <td>41.9136</td>\n",
              "    </tr>\n",
              "    <tr>\n",
              "      <th>1</th>\n",
              "      <td>2</td>\n",
              "      <td>CA-2016-152156</td>\n",
              "      <td>2016-11-08</td>\n",
              "      <td>2016-11-11</td>\n",
              "      <td>Second Class</td>\n",
              "      <td>CG-12520</td>\n",
              "      <td>Claire Gute</td>\n",
              "      <td>Consumer</td>\n",
              "      <td>United States</td>\n",
              "      <td>Henderson</td>\n",
              "      <td>Kentucky</td>\n",
              "      <td>42420</td>\n",
              "      <td>South</td>\n",
              "      <td>FUR-CH-10000454</td>\n",
              "      <td>Furniture</td>\n",
              "      <td>Chairs</td>\n",
              "      <td>Hon Deluxe Fabric Upholstered Stacking Chairs,...</td>\n",
              "      <td>731.9400</td>\n",
              "      <td>3</td>\n",
              "      <td>0.00</td>\n",
              "      <td>219.5820</td>\n",
              "    </tr>\n",
              "    <tr>\n",
              "      <th>2</th>\n",
              "      <td>3</td>\n",
              "      <td>CA-2016-138688</td>\n",
              "      <td>2016-06-12</td>\n",
              "      <td>2016-06-16</td>\n",
              "      <td>Second Class</td>\n",
              "      <td>DV-13045</td>\n",
              "      <td>Darrin Van Huff</td>\n",
              "      <td>Corporate</td>\n",
              "      <td>United States</td>\n",
              "      <td>Los Angeles</td>\n",
              "      <td>California</td>\n",
              "      <td>90036</td>\n",
              "      <td>West</td>\n",
              "      <td>OFF-LA-10000240</td>\n",
              "      <td>Office Supplies</td>\n",
              "      <td>Labels</td>\n",
              "      <td>Self-Adhesive Address Labels for Typewriters b...</td>\n",
              "      <td>14.6200</td>\n",
              "      <td>2</td>\n",
              "      <td>0.00</td>\n",
              "      <td>6.8714</td>\n",
              "    </tr>\n",
              "    <tr>\n",
              "      <th>3</th>\n",
              "      <td>4</td>\n",
              "      <td>US-2015-108966</td>\n",
              "      <td>2015-10-11</td>\n",
              "      <td>2015-10-18</td>\n",
              "      <td>Standard Class</td>\n",
              "      <td>SO-20335</td>\n",
              "      <td>Sean O'Donnell</td>\n",
              "      <td>Consumer</td>\n",
              "      <td>United States</td>\n",
              "      <td>Fort Lauderdale</td>\n",
              "      <td>Florida</td>\n",
              "      <td>33311</td>\n",
              "      <td>South</td>\n",
              "      <td>FUR-TA-10000577</td>\n",
              "      <td>Furniture</td>\n",
              "      <td>Tables</td>\n",
              "      <td>Bretford CR4500 Series Slim Rectangular Table</td>\n",
              "      <td>957.5775</td>\n",
              "      <td>5</td>\n",
              "      <td>0.45</td>\n",
              "      <td>-383.0310</td>\n",
              "    </tr>\n",
              "    <tr>\n",
              "      <th>4</th>\n",
              "      <td>5</td>\n",
              "      <td>US-2015-108966</td>\n",
              "      <td>2015-10-11</td>\n",
              "      <td>2015-10-18</td>\n",
              "      <td>Standard Class</td>\n",
              "      <td>SO-20335</td>\n",
              "      <td>Sean O'Donnell</td>\n",
              "      <td>Consumer</td>\n",
              "      <td>United States</td>\n",
              "      <td>Fort Lauderdale</td>\n",
              "      <td>Florida</td>\n",
              "      <td>33311</td>\n",
              "      <td>South</td>\n",
              "      <td>OFF-ST-10000760</td>\n",
              "      <td>Office Supplies</td>\n",
              "      <td>Storage</td>\n",
              "      <td>Eldon Fold 'N Roll Cart System</td>\n",
              "      <td>22.3680</td>\n",
              "      <td>2</td>\n",
              "      <td>0.20</td>\n",
              "      <td>2.5164</td>\n",
              "    </tr>\n",
              "  </tbody>\n",
              "</table>\n",
              "</div>"
            ],
            "text/plain": [
              "   Row ID        Order ID Order Date  ... Quantity Discount    Profit\n",
              "0       1  CA-2016-152156 2016-11-08  ...        2     0.00   41.9136\n",
              "1       2  CA-2016-152156 2016-11-08  ...        3     0.00  219.5820\n",
              "2       3  CA-2016-138688 2016-06-12  ...        2     0.00    6.8714\n",
              "3       4  US-2015-108966 2015-10-11  ...        5     0.45 -383.0310\n",
              "4       5  US-2015-108966 2015-10-11  ...        2     0.20    2.5164\n",
              "\n",
              "[5 rows x 21 columns]"
            ]
          },
          "metadata": {
            "tags": []
          },
          "execution_count": 7
        }
      ]
    },
    {
      "cell_type": "code",
      "metadata": {
        "id": "agB3w_dEro4Q",
        "outputId": "acb1a6c0-4be7-4985-eddf-acf00595d54a",
        "colab": {
          "base_uri": "https://localhost:8080/",
          "height": 232
        }
      },
      "source": [
        "data['City'].value_counts()"
      ],
      "execution_count": null,
      "outputs": [
        {
          "output_type": "execute_result",
          "data": {
            "text/plain": [
              "New York City    915\n",
              "Los Angeles      747\n",
              "Philadelphia     537\n",
              "San Francisco    510\n",
              "Seattle          428\n",
              "                ... \n",
              "Lake Elsinore      1\n",
              "Missouri City      1\n",
              "Holyoke            1\n",
              "Murrieta           1\n",
              "Commerce City      1\n",
              "Name: City, Length: 531, dtype: int64"
            ]
          },
          "metadata": {
            "tags": []
          },
          "execution_count": 8
        }
      ]
    },
    {
      "cell_type": "code",
      "metadata": {
        "id": "tq1J_82qr2ZD"
      },
      "source": [
        ""
      ],
      "execution_count": null,
      "outputs": []
    },
    {
      "cell_type": "markdown",
      "metadata": {
        "id": "a2Y-RKBetAro"
      },
      "source": [
        "# **Displaying** **Data** **Columns**\n"
      ]
    },
    {
      "cell_type": "code",
      "metadata": {
        "id": "LQcfzs4_sHq5",
        "outputId": "7348a6f2-32d5-4d08-a337-a4b845654b96",
        "colab": {
          "base_uri": "https://localhost:8080/",
          "height": 107
        }
      },
      "source": [
        "data.columns"
      ],
      "execution_count": null,
      "outputs": [
        {
          "output_type": "execute_result",
          "data": {
            "text/plain": [
              "Index(['Row ID', 'Order ID', 'Order Date', 'Ship Date', 'Ship Mode',\n",
              "       'Customer ID', 'Customer Name', 'Segment', 'Country', 'City', 'State',\n",
              "       'Postal Code', 'Region', 'Product ID', 'Category', 'Sub-Category',\n",
              "       'Product Name', 'Sales', 'Quantity', 'Discount', 'Profit'],\n",
              "      dtype='object')"
            ]
          },
          "metadata": {
            "tags": []
          },
          "execution_count": 18
        }
      ]
    },
    {
      "cell_type": "code",
      "metadata": {
        "id": "WN9etRHAtcVA"
      },
      "source": [
        ""
      ],
      "execution_count": null,
      "outputs": []
    },
    {
      "cell_type": "markdown",
      "metadata": {
        "id": "H4wU1IuNtltQ"
      },
      "source": [
        "# **Top** **10** **products** **with** **highest** **profit**"
      ]
    },
    {
      "cell_type": "code",
      "metadata": {
        "id": "n3o6AAg4tx-4"
      },
      "source": [
        "product_profit=data.groupby(['Product ID']).sum()"
      ],
      "execution_count": null,
      "outputs": []
    },
    {
      "cell_type": "code",
      "metadata": {
        "id": "Q9EX21XLugJM",
        "outputId": "1a63cfdf-2076-4df5-a41e-01438a1b60d9",
        "colab": {
          "base_uri": "https://localhost:8080/",
          "height": 386
        }
      },
      "source": [
        "product_profit.head(10)"
      ],
      "execution_count": null,
      "outputs": [
        {
          "output_type": "execute_result",
          "data": {
            "text/html": [
              "<div>\n",
              "<style scoped>\n",
              "    .dataframe tbody tr th:only-of-type {\n",
              "        vertical-align: middle;\n",
              "    }\n",
              "\n",
              "    .dataframe tbody tr th {\n",
              "        vertical-align: top;\n",
              "    }\n",
              "\n",
              "    .dataframe thead th {\n",
              "        text-align: right;\n",
              "    }\n",
              "</style>\n",
              "<table border=\"1\" class=\"dataframe\">\n",
              "  <thead>\n",
              "    <tr style=\"text-align: right;\">\n",
              "      <th></th>\n",
              "      <th>Row ID</th>\n",
              "      <th>Postal Code</th>\n",
              "      <th>Sales</th>\n",
              "      <th>Quantity</th>\n",
              "      <th>Discount</th>\n",
              "      <th>Profit</th>\n",
              "    </tr>\n",
              "    <tr>\n",
              "      <th>Product ID</th>\n",
              "      <th></th>\n",
              "      <th></th>\n",
              "      <th></th>\n",
              "      <th></th>\n",
              "      <th></th>\n",
              "      <th></th>\n",
              "    </tr>\n",
              "  </thead>\n",
              "  <tbody>\n",
              "    <tr>\n",
              "      <th>FUR-BO-10000112</th>\n",
              "      <td>3513</td>\n",
              "      <td>60653</td>\n",
              "      <td>825.1740</td>\n",
              "      <td>9</td>\n",
              "      <td>0.30</td>\n",
              "      <td>-117.8820</td>\n",
              "    </tr>\n",
              "    <tr>\n",
              "      <th>FUR-BO-10000330</th>\n",
              "      <td>13658</td>\n",
              "      <td>256733</td>\n",
              "      <td>1064.6240</td>\n",
              "      <td>10</td>\n",
              "      <td>0.30</td>\n",
              "      <td>24.1960</td>\n",
              "    </tr>\n",
              "    <tr>\n",
              "      <th>FUR-BO-10000362</th>\n",
              "      <td>18886</td>\n",
              "      <td>184360</td>\n",
              "      <td>2154.3480</td>\n",
              "      <td>14</td>\n",
              "      <td>0.65</td>\n",
              "      <td>311.1836</td>\n",
              "    </tr>\n",
              "    <tr>\n",
              "      <th>FUR-BO-10000468</th>\n",
              "      <td>35749</td>\n",
              "      <td>357215</td>\n",
              "      <td>723.8420</td>\n",
              "      <td>21</td>\n",
              "      <td>1.10</td>\n",
              "      <td>-133.1092</td>\n",
              "    </tr>\n",
              "    <tr>\n",
              "      <th>FUR-BO-10000711</th>\n",
              "      <td>9310</td>\n",
              "      <td>120635</td>\n",
              "      <td>851.7600</td>\n",
              "      <td>12</td>\n",
              "      <td>0.00</td>\n",
              "      <td>229.9752</td>\n",
              "    </tr>\n",
              "    <tr>\n",
              "      <th>FUR-BO-10000780</th>\n",
              "      <td>29986</td>\n",
              "      <td>258751</td>\n",
              "      <td>2946.3668</td>\n",
              "      <td>22</td>\n",
              "      <td>1.66</td>\n",
              "      <td>-767.7436</td>\n",
              "    </tr>\n",
              "    <tr>\n",
              "      <th>FUR-BO-10001337</th>\n",
              "      <td>49069</td>\n",
              "      <td>670941</td>\n",
              "      <td>2970.0590</td>\n",
              "      <td>28</td>\n",
              "      <td>1.10</td>\n",
              "      <td>-78.6370</td>\n",
              "    </tr>\n",
              "    <tr>\n",
              "      <th>FUR-BO-10001519</th>\n",
              "      <td>25470</td>\n",
              "      <td>244143</td>\n",
              "      <td>1119.1950</td>\n",
              "      <td>22</td>\n",
              "      <td>0.85</td>\n",
              "      <td>147.0942</td>\n",
              "    </tr>\n",
              "    <tr>\n",
              "      <th>FUR-BO-10001567</th>\n",
              "      <td>7968</td>\n",
              "      <td>80219</td>\n",
              "      <td>90.8820</td>\n",
              "      <td>3</td>\n",
              "      <td>0.70</td>\n",
              "      <td>-190.8522</td>\n",
              "    </tr>\n",
              "    <tr>\n",
              "      <th>FUR-BO-10001601</th>\n",
              "      <td>13249</td>\n",
              "      <td>247257</td>\n",
              "      <td>935.1972</td>\n",
              "      <td>10</td>\n",
              "      <td>0.79</td>\n",
              "      <td>-125.7408</td>\n",
              "    </tr>\n",
              "  </tbody>\n",
              "</table>\n",
              "</div>"
            ],
            "text/plain": [
              "                 Row ID  Postal Code      Sales  Quantity  Discount    Profit\n",
              "Product ID                                                                   \n",
              "FUR-BO-10000112    3513        60653   825.1740         9      0.30 -117.8820\n",
              "FUR-BO-10000330   13658       256733  1064.6240        10      0.30   24.1960\n",
              "FUR-BO-10000362   18886       184360  2154.3480        14      0.65  311.1836\n",
              "FUR-BO-10000468   35749       357215   723.8420        21      1.10 -133.1092\n",
              "FUR-BO-10000711    9310       120635   851.7600        12      0.00  229.9752\n",
              "FUR-BO-10000780   29986       258751  2946.3668        22      1.66 -767.7436\n",
              "FUR-BO-10001337   49069       670941  2970.0590        28      1.10  -78.6370\n",
              "FUR-BO-10001519   25470       244143  1119.1950        22      0.85  147.0942\n",
              "FUR-BO-10001567    7968        80219    90.8820         3      0.70 -190.8522\n",
              "FUR-BO-10001601   13249       247257   935.1972        10      0.79 -125.7408"
            ]
          },
          "metadata": {
            "tags": []
          },
          "execution_count": 10
        }
      ]
    },
    {
      "cell_type": "code",
      "metadata": {
        "id": "vweZ3HC_ui6D",
        "outputId": "f20b172b-848d-4d4b-848c-cbcbe2c9c2f8",
        "colab": {
          "base_uri": "https://localhost:8080/",
          "height": 232
        }
      },
      "source": [
        "product_profit=product_profit.loc[:,['Profit','Sales']]\n",
        "product_profit.head()"
      ],
      "execution_count": null,
      "outputs": [
        {
          "output_type": "execute_result",
          "data": {
            "text/html": [
              "<div>\n",
              "<style scoped>\n",
              "    .dataframe tbody tr th:only-of-type {\n",
              "        vertical-align: middle;\n",
              "    }\n",
              "\n",
              "    .dataframe tbody tr th {\n",
              "        vertical-align: top;\n",
              "    }\n",
              "\n",
              "    .dataframe thead th {\n",
              "        text-align: right;\n",
              "    }\n",
              "</style>\n",
              "<table border=\"1\" class=\"dataframe\">\n",
              "  <thead>\n",
              "    <tr style=\"text-align: right;\">\n",
              "      <th></th>\n",
              "      <th>Profit</th>\n",
              "      <th>Sales</th>\n",
              "    </tr>\n",
              "    <tr>\n",
              "      <th>Product ID</th>\n",
              "      <th></th>\n",
              "      <th></th>\n",
              "    </tr>\n",
              "  </thead>\n",
              "  <tbody>\n",
              "    <tr>\n",
              "      <th>FUR-BO-10000112</th>\n",
              "      <td>-117.8820</td>\n",
              "      <td>825.174</td>\n",
              "    </tr>\n",
              "    <tr>\n",
              "      <th>FUR-BO-10000330</th>\n",
              "      <td>24.1960</td>\n",
              "      <td>1064.624</td>\n",
              "    </tr>\n",
              "    <tr>\n",
              "      <th>FUR-BO-10000362</th>\n",
              "      <td>311.1836</td>\n",
              "      <td>2154.348</td>\n",
              "    </tr>\n",
              "    <tr>\n",
              "      <th>FUR-BO-10000468</th>\n",
              "      <td>-133.1092</td>\n",
              "      <td>723.842</td>\n",
              "    </tr>\n",
              "    <tr>\n",
              "      <th>FUR-BO-10000711</th>\n",
              "      <td>229.9752</td>\n",
              "      <td>851.760</td>\n",
              "    </tr>\n",
              "  </tbody>\n",
              "</table>\n",
              "</div>"
            ],
            "text/plain": [
              "                   Profit     Sales\n",
              "Product ID                         \n",
              "FUR-BO-10000112 -117.8820   825.174\n",
              "FUR-BO-10000330   24.1960  1064.624\n",
              "FUR-BO-10000362  311.1836  2154.348\n",
              "FUR-BO-10000468 -133.1092   723.842\n",
              "FUR-BO-10000711  229.9752   851.760"
            ]
          },
          "metadata": {
            "tags": []
          },
          "execution_count": 12
        }
      ]
    },
    {
      "cell_type": "code",
      "metadata": {
        "id": "RNQxtqgNS-FC"
      },
      "source": [
        ""
      ],
      "execution_count": null,
      "outputs": []
    },
    {
      "cell_type": "markdown",
      "metadata": {
        "id": "5Ua5EnGSTnNA"
      },
      "source": [
        "**Sorting** **to** **Display** **top** **10** **profitable** **products**"
      ]
    },
    {
      "cell_type": "code",
      "metadata": {
        "id": "O69vWYxcT5G5",
        "outputId": "f99f4e5e-3027-4899-85ef-1652abf06740",
        "colab": {
          "base_uri": "https://localhost:8080/",
          "height": 386
        }
      },
      "source": [
        "data2=product_profit.sort_values(['Profit'],ascending=False)\n",
        "data2.head(10)"
      ],
      "execution_count": null,
      "outputs": [
        {
          "output_type": "execute_result",
          "data": {
            "text/html": [
              "<div>\n",
              "<style scoped>\n",
              "    .dataframe tbody tr th:only-of-type {\n",
              "        vertical-align: middle;\n",
              "    }\n",
              "\n",
              "    .dataframe tbody tr th {\n",
              "        vertical-align: top;\n",
              "    }\n",
              "\n",
              "    .dataframe thead th {\n",
              "        text-align: right;\n",
              "    }\n",
              "</style>\n",
              "<table border=\"1\" class=\"dataframe\">\n",
              "  <thead>\n",
              "    <tr style=\"text-align: right;\">\n",
              "      <th></th>\n",
              "      <th>Profit</th>\n",
              "      <th>Sales</th>\n",
              "    </tr>\n",
              "    <tr>\n",
              "      <th>Product ID</th>\n",
              "      <th></th>\n",
              "      <th></th>\n",
              "    </tr>\n",
              "  </thead>\n",
              "  <tbody>\n",
              "    <tr>\n",
              "      <th>TEC-CO-10004722</th>\n",
              "      <td>25199.9280</td>\n",
              "      <td>61599.824</td>\n",
              "    </tr>\n",
              "    <tr>\n",
              "      <th>OFF-BI-10003527</th>\n",
              "      <td>7753.0390</td>\n",
              "      <td>27453.384</td>\n",
              "    </tr>\n",
              "    <tr>\n",
              "      <th>TEC-CO-10001449</th>\n",
              "      <td>6983.8836</td>\n",
              "      <td>18839.686</td>\n",
              "    </tr>\n",
              "    <tr>\n",
              "      <th>TEC-CO-10003763</th>\n",
              "      <td>4570.9347</td>\n",
              "      <td>11619.834</td>\n",
              "    </tr>\n",
              "    <tr>\n",
              "      <th>TEC-AC-10002049</th>\n",
              "      <td>4425.3432</td>\n",
              "      <td>13756.536</td>\n",
              "    </tr>\n",
              "    <tr>\n",
              "      <th>TEC-MA-10001127</th>\n",
              "      <td>4094.9766</td>\n",
              "      <td>18374.895</td>\n",
              "    </tr>\n",
              "    <tr>\n",
              "      <th>TEC-MA-10003979</th>\n",
              "      <td>3772.9461</td>\n",
              "      <td>7699.890</td>\n",
              "    </tr>\n",
              "    <tr>\n",
              "      <th>TEC-MA-10001047</th>\n",
              "      <td>3717.9714</td>\n",
              "      <td>14299.890</td>\n",
              "    </tr>\n",
              "    <tr>\n",
              "      <th>OFF-BI-10001120</th>\n",
              "      <td>3345.2823</td>\n",
              "      <td>15875.916</td>\n",
              "    </tr>\n",
              "    <tr>\n",
              "      <th>TEC-MA-10000045</th>\n",
              "      <td>3343.5360</td>\n",
              "      <td>6965.700</td>\n",
              "    </tr>\n",
              "  </tbody>\n",
              "</table>\n",
              "</div>"
            ],
            "text/plain": [
              "                     Profit      Sales\n",
              "Product ID                            \n",
              "TEC-CO-10004722  25199.9280  61599.824\n",
              "OFF-BI-10003527   7753.0390  27453.384\n",
              "TEC-CO-10001449   6983.8836  18839.686\n",
              "TEC-CO-10003763   4570.9347  11619.834\n",
              "TEC-AC-10002049   4425.3432  13756.536\n",
              "TEC-MA-10001127   4094.9766  18374.895\n",
              "TEC-MA-10003979   3772.9461   7699.890\n",
              "TEC-MA-10001047   3717.9714  14299.890\n",
              "OFF-BI-10001120   3345.2823  15875.916\n",
              "TEC-MA-10000045   3343.5360   6965.700"
            ]
          },
          "metadata": {
            "tags": []
          },
          "execution_count": 16
        }
      ]
    },
    {
      "cell_type": "code",
      "metadata": {
        "id": "iEI3tz_LUD9s",
        "outputId": "b820659d-1ea2-46af-d692-a38c6173349c",
        "colab": {
          "base_uri": "https://localhost:8080/",
          "height": 380
        }
      },
      "source": [
        "data2.head(10).plot(kind='bar')"
      ],
      "execution_count": null,
      "outputs": [
        {
          "output_type": "execute_result",
          "data": {
            "text/plain": [
              "<matplotlib.axes._subplots.AxesSubplot at 0x7f0a001f78d0>"
            ]
          },
          "metadata": {
            "tags": []
          },
          "execution_count": 28
        },
        {
          "output_type": "display_data",
          "data": {
            "image/png": "[encoded data removed]",
            "text/plain": [
              "<Figure size 432x288 with 1 Axes>"
            ]
          },
          "metadata": {
            "tags": [],
            "needs_background": "light"
          }
        }
      ]
    },
    {
      "cell_type": "code",
      "metadata": {
        "id": "KJZp_jxYiQ-p",
        "outputId": "cfd08bfc-db85-4d7d-86e9-5b6eb194ae58",
        "colab": {
          "base_uri": "https://localhost:8080/",
          "height": 380
        }
      },
      "source": [
        "data2['Profit'].head(10).plot(kind='bar')"
      ],
      "execution_count": null,
      "outputs": [
        {
          "output_type": "execute_result",
          "data": {
            "text/plain": [
              "<matplotlib.axes._subplots.AxesSubplot at 0x7f0a08c7e6a0>"
            ]
          },
          "metadata": {
            "tags": []
          },
          "execution_count": 29
        },
        {
          "output_type": "display_data",
          "data": {
            "image/png": "[encoded data removed]",
            "text/plain": [
              "<Figure size 432x288 with 1 Axes>"
            ]
          },
          "metadata": {
            "tags": [],
            "needs_background": "light"
          }
        }
      ]
    },
    {
      "cell_type": "markdown",
      "metadata": {
        "id": "BsebYgccsitk"
      },
      "source": [
        "**Shipment** **Type** **and** **its** **effects** **on** **Profit**"
      ]
    },
    {
      "cell_type": "code",
      "metadata": {
        "id": "qinfQ5-Wsw0D",
        "outputId": "34c7cf76-043f-4f3c-84ad-2286e07baa50",
        "colab": {
          "base_uri": "https://localhost:8080/",
          "height": 202
        }
      },
      "source": [
        "shipment_data=data.groupby(['Ship Mode']).sum()\n",
        "shipment=shipment_data.loc[:,['Sales','Quantity','Profit']]\n",
        "shipment.sort_values(['Profit'],ascending=False,inplace=True)\n",
        "shipment.head(10)"
      ],
      "execution_count": null,
      "outputs": [
        {
          "output_type": "execute_result",
          "data": {
            "text/html": [
              "<div>\n",
              "<style scoped>\n",
              "    .dataframe tbody tr th:only-of-type {\n",
              "        vertical-align: middle;\n",
              "    }\n",
              "\n",
              "    .dataframe tbody tr th {\n",
              "        vertical-align: top;\n",
              "    }\n",
              "\n",
              "    .dataframe thead th {\n",
              "        text-align: right;\n",
              "    }\n",
              "</style>\n",
              "<table border=\"1\" class=\"dataframe\">\n",
              "  <thead>\n",
              "    <tr style=\"text-align: right;\">\n",
              "      <th></th>\n",
              "      <th>Sales</th>\n",
              "      <th>Quantity</th>\n",
              "      <th>Profit</th>\n",
              "    </tr>\n",
              "    <tr>\n",
              "      <th>Ship Mode</th>\n",
              "      <th></th>\n",
              "      <th></th>\n",
              "      <th></th>\n",
              "    </tr>\n",
              "  </thead>\n",
              "  <tbody>\n",
              "    <tr>\n",
              "      <th>Standard Class</th>\n",
              "      <td>1.358216e+06</td>\n",
              "      <td>22797</td>\n",
              "      <td>164088.7875</td>\n",
              "    </tr>\n",
              "    <tr>\n",
              "      <th>Second Class</th>\n",
              "      <td>4.591936e+05</td>\n",
              "      <td>7423</td>\n",
              "      <td>57446.6354</td>\n",
              "    </tr>\n",
              "    <tr>\n",
              "      <th>First Class</th>\n",
              "      <td>3.514284e+05</td>\n",
              "      <td>5693</td>\n",
              "      <td>48969.8399</td>\n",
              "    </tr>\n",
              "    <tr>\n",
              "      <th>Same Day</th>\n",
              "      <td>1.283631e+05</td>\n",
              "      <td>1960</td>\n",
              "      <td>15891.7589</td>\n",
              "    </tr>\n",
              "  </tbody>\n",
              "</table>\n",
              "</div>"
            ],
            "text/plain": [
              "                       Sales  Quantity       Profit\n",
              "Ship Mode                                          \n",
              "Standard Class  1.358216e+06     22797  164088.7875\n",
              "Second Class    4.591936e+05      7423   57446.6354\n",
              "First Class     3.514284e+05      5693   48969.8399\n",
              "Same Day        1.283631e+05      1960   15891.7589"
            ]
          },
          "metadata": {
            "tags": []
          },
          "execution_count": 24
        }
      ]
    },
    {
      "cell_type": "code",
      "metadata": {
        "id": "BYExBATEtU_b",
        "outputId": "c4c15196-a6e3-47b7-b8f1-3b1b0c449c44",
        "colab": {
          "base_uri": "https://localhost:8080/",
          "height": 362
        }
      },
      "source": [
        "shipment['Profit'].head(10).plot(kind='bar')"
      ],
      "execution_count": null,
      "outputs": [
        {
          "output_type": "execute_result",
          "data": {
            "text/plain": [
              "<matplotlib.axes._subplots.AxesSubplot at 0x7f0a007f6240>"
            ]
          },
          "metadata": {
            "tags": []
          },
          "execution_count": 25
        },
        {
          "output_type": "display_data",
          "data": {
            "image/png": "[encoded data removed]",
            "text/plain": [
              "<Figure size 432x288 with 1 Axes>"
            ]
          },
          "metadata": {
            "tags": [],
            "needs_background": "light"
          }
        }
      ]
    },
    {
      "cell_type": "code",
      "metadata": {
        "id": "nVCgQ_8ruHNQ",
        "outputId": "d46365e7-a4bd-47b7-d6c9-2582d63c474b",
        "colab": {
          "base_uri": "https://localhost:8080/",
          "height": 373
        }
      },
      "source": [
        "shipment.plot(kind='bar')"
      ],
      "execution_count": null,
      "outputs": [
        {
          "output_type": "execute_result",
          "data": {
            "text/plain": [
              "<matplotlib.axes._subplots.AxesSubplot at 0x7f0a08c10390>"
            ]
          },
          "metadata": {
            "tags": []
          },
          "execution_count": 30
        },
        {
          "output_type": "display_data",
          "data": {
            "image/png": "[encoded data removed]",
            "text/plain": [
              "<Figure size 432x288 with 1 Axes>"
            ]
          },
          "metadata": {
            "tags": [],
            "needs_background": "light"
          }
        }
      ]
    },
    {
      "cell_type": "markdown",
      "metadata": {
        "id": "WTtZCCw4xuLG"
      },
      "source": [
        "# **City** **Wise** **Trend** **of** **Sales** "
      ]
    },
    {
      "cell_type": "code",
      "metadata": {
        "id": "ztC3UvE7x7P3",
        "outputId": "2f1a293a-18dd-4a78-f6e2-8ef3b81a7e9b",
        "colab": {
          "base_uri": "https://localhost:8080/",
          "height": 386
        }
      },
      "source": [
        "city_data=data.groupby(['City']).sum()\n",
        "city_data.head(10)"
      ],
      "execution_count": null,
      "outputs": [
        {
          "output_type": "execute_result",
          "data": {
            "text/html": [
              "<div>\n",
              "<style scoped>\n",
              "    .dataframe tbody tr th:only-of-type {\n",
              "        vertical-align: middle;\n",
              "    }\n",
              "\n",
              "    .dataframe tbody tr th {\n",
              "        vertical-align: top;\n",
              "    }\n",
              "\n",
              "    .dataframe thead th {\n",
              "        text-align: right;\n",
              "    }\n",
              "</style>\n",
              "<table border=\"1\" class=\"dataframe\">\n",
              "  <thead>\n",
              "    <tr style=\"text-align: right;\">\n",
              "      <th></th>\n",
              "      <th>Row ID</th>\n",
              "      <th>Postal Code</th>\n",
              "      <th>Sales</th>\n",
              "      <th>Quantity</th>\n",
              "      <th>Discount</th>\n",
              "      <th>Profit</th>\n",
              "    </tr>\n",
              "    <tr>\n",
              "      <th>City</th>\n",
              "      <th></th>\n",
              "      <th></th>\n",
              "      <th></th>\n",
              "      <th></th>\n",
              "      <th></th>\n",
              "      <th></th>\n",
              "    </tr>\n",
              "  </thead>\n",
              "  <tbody>\n",
              "    <tr>\n",
              "      <th>Aberdeen</th>\n",
              "      <td>9261</td>\n",
              "      <td>57401</td>\n",
              "      <td>25.5000</td>\n",
              "      <td>3</td>\n",
              "      <td>0.00</td>\n",
              "      <td>6.6300</td>\n",
              "    </tr>\n",
              "    <tr>\n",
              "      <th>Abilene</th>\n",
              "      <td>6990</td>\n",
              "      <td>79605</td>\n",
              "      <td>1.3920</td>\n",
              "      <td>2</td>\n",
              "      <td>0.80</td>\n",
              "      <td>-3.7584</td>\n",
              "    </tr>\n",
              "    <tr>\n",
              "      <th>Akron</th>\n",
              "      <td>97234</td>\n",
              "      <td>930552</td>\n",
              "      <td>2729.9860</td>\n",
              "      <td>65</td>\n",
              "      <td>7.50</td>\n",
              "      <td>-186.6356</td>\n",
              "    </tr>\n",
              "    <tr>\n",
              "      <th>Albuquerque</th>\n",
              "      <td>67175</td>\n",
              "      <td>1219470</td>\n",
              "      <td>2220.1600</td>\n",
              "      <td>65</td>\n",
              "      <td>0.80</td>\n",
              "      <td>634.0881</td>\n",
              "    </tr>\n",
              "    <tr>\n",
              "      <th>Alexandria</th>\n",
              "      <td>47898</td>\n",
              "      <td>356864</td>\n",
              "      <td>5519.5700</td>\n",
              "      <td>84</td>\n",
              "      <td>0.00</td>\n",
              "      <td>318.6183</td>\n",
              "    </tr>\n",
              "    <tr>\n",
              "      <th>Allen</th>\n",
              "      <td>9086</td>\n",
              "      <td>300008</td>\n",
              "      <td>290.2060</td>\n",
              "      <td>13</td>\n",
              "      <td>1.50</td>\n",
              "      <td>-39.8775</td>\n",
              "    </tr>\n",
              "    <tr>\n",
              "      <th>Allentown</th>\n",
              "      <td>49005</td>\n",
              "      <td>126721</td>\n",
              "      <td>853.2520</td>\n",
              "      <td>20</td>\n",
              "      <td>1.90</td>\n",
              "      <td>-226.4504</td>\n",
              "    </tr>\n",
              "    <tr>\n",
              "      <th>Altoona</th>\n",
              "      <td>7585</td>\n",
              "      <td>33204</td>\n",
              "      <td>20.4510</td>\n",
              "      <td>9</td>\n",
              "      <td>0.90</td>\n",
              "      <td>-1.1835</td>\n",
              "    </tr>\n",
              "    <tr>\n",
              "      <th>Amarillo</th>\n",
              "      <td>48147</td>\n",
              "      <td>791090</td>\n",
              "      <td>3773.0628</td>\n",
              "      <td>32</td>\n",
              "      <td>2.72</td>\n",
              "      <td>-387.9683</td>\n",
              "    </tr>\n",
              "    <tr>\n",
              "      <th>Anaheim</th>\n",
              "      <td>190906</td>\n",
              "      <td>2505708</td>\n",
              "      <td>7986.8700</td>\n",
              "      <td>112</td>\n",
              "      <td>2.20</td>\n",
              "      <td>1234.0036</td>\n",
              "    </tr>\n",
              "  </tbody>\n",
              "</table>\n",
              "</div>"
            ],
            "text/plain": [
              "             Row ID  Postal Code      Sales  Quantity  Discount     Profit\n",
              "City                                                                      \n",
              "Aberdeen       9261        57401    25.5000         3      0.00     6.6300\n",
              "Abilene        6990        79605     1.3920         2      0.80    -3.7584\n",
              "Akron         97234       930552  2729.9860        65      7.50  -186.6356\n",
              "Albuquerque   67175      1219470  2220.1600        65      0.80   634.0881\n",
              "Alexandria    47898       356864  5519.5700        84      0.00   318.6183\n",
              "Allen          9086       300008   290.2060        13      1.50   -39.8775\n",
              "Allentown     49005       126721   853.2520        20      1.90  -226.4504\n",
              "Altoona        7585        33204    20.4510         9      0.90    -1.1835\n",
              "Amarillo      48147       791090  3773.0628        32      2.72  -387.9683\n",
              "Anaheim      190906      2505708  7986.8700       112      2.20  1234.0036"
            ]
          },
          "metadata": {
            "tags": []
          },
          "execution_count": 27
        }
      ]
    },
    {
      "cell_type": "code",
      "metadata": {
        "id": "2_VZFP6ayGVP",
        "outputId": "bf50be5e-a498-44e9-b15d-d4a661495b81",
        "colab": {
          "base_uri": "https://localhost:8080/",
          "height": 386
        }
      },
      "source": [
        "city_data=city_data.loc[:,['Sales','Quantity','Profit']]\n",
        "city_data.head(10)"
      ],
      "execution_count": null,
      "outputs": [
        {
          "output_type": "execute_result",
          "data": {
            "text/html": [
              "<div>\n",
              "<style scoped>\n",
              "    .dataframe tbody tr th:only-of-type {\n",
              "        vertical-align: middle;\n",
              "    }\n",
              "\n",
              "    .dataframe tbody tr th {\n",
              "        vertical-align: top;\n",
              "    }\n",
              "\n",
              "    .dataframe thead th {\n",
              "        text-align: right;\n",
              "    }\n",
              "</style>\n",
              "<table border=\"1\" class=\"dataframe\">\n",
              "  <thead>\n",
              "    <tr style=\"text-align: right;\">\n",
              "      <th></th>\n",
              "      <th>Sales</th>\n",
              "      <th>Quantity</th>\n",
              "      <th>Profit</th>\n",
              "    </tr>\n",
              "    <tr>\n",
              "      <th>City</th>\n",
              "      <th></th>\n",
              "      <th></th>\n",
              "      <th></th>\n",
              "    </tr>\n",
              "  </thead>\n",
              "  <tbody>\n",
              "    <tr>\n",
              "      <th>Aberdeen</th>\n",
              "      <td>25.5000</td>\n",
              "      <td>3</td>\n",
              "      <td>6.6300</td>\n",
              "    </tr>\n",
              "    <tr>\n",
              "      <th>Abilene</th>\n",
              "      <td>1.3920</td>\n",
              "      <td>2</td>\n",
              "      <td>-3.7584</td>\n",
              "    </tr>\n",
              "    <tr>\n",
              "      <th>Akron</th>\n",
              "      <td>2729.9860</td>\n",
              "      <td>65</td>\n",
              "      <td>-186.6356</td>\n",
              "    </tr>\n",
              "    <tr>\n",
              "      <th>Albuquerque</th>\n",
              "      <td>2220.1600</td>\n",
              "      <td>65</td>\n",
              "      <td>634.0881</td>\n",
              "    </tr>\n",
              "    <tr>\n",
              "      <th>Alexandria</th>\n",
              "      <td>5519.5700</td>\n",
              "      <td>84</td>\n",
              "      <td>318.6183</td>\n",
              "    </tr>\n",
              "    <tr>\n",
              "      <th>Allen</th>\n",
              "      <td>290.2060</td>\n",
              "      <td>13</td>\n",
              "      <td>-39.8775</td>\n",
              "    </tr>\n",
              "    <tr>\n",
              "      <th>Allentown</th>\n",
              "      <td>853.2520</td>\n",
              "      <td>20</td>\n",
              "      <td>-226.4504</td>\n",
              "    </tr>\n",
              "    <tr>\n",
              "      <th>Altoona</th>\n",
              "      <td>20.4510</td>\n",
              "      <td>9</td>\n",
              "      <td>-1.1835</td>\n",
              "    </tr>\n",
              "    <tr>\n",
              "      <th>Amarillo</th>\n",
              "      <td>3773.0628</td>\n",
              "      <td>32</td>\n",
              "      <td>-387.9683</td>\n",
              "    </tr>\n",
              "    <tr>\n",
              "      <th>Anaheim</th>\n",
              "      <td>7986.8700</td>\n",
              "      <td>112</td>\n",
              "      <td>1234.0036</td>\n",
              "    </tr>\n",
              "  </tbody>\n",
              "</table>\n",
              "</div>"
            ],
            "text/plain": [
              "                 Sales  Quantity     Profit\n",
              "City                                       \n",
              "Aberdeen       25.5000         3     6.6300\n",
              "Abilene         1.3920         2    -3.7584\n",
              "Akron        2729.9860        65  -186.6356\n",
              "Albuquerque  2220.1600        65   634.0881\n",
              "Alexandria   5519.5700        84   318.6183\n",
              "Allen         290.2060        13   -39.8775\n",
              "Allentown     853.2520        20  -226.4504\n",
              "Altoona        20.4510         9    -1.1835\n",
              "Amarillo     3773.0628        32  -387.9683\n",
              "Anaheim      7986.8700       112  1234.0036"
            ]
          },
          "metadata": {
            "tags": []
          },
          "execution_count": 32
        }
      ]
    },
    {
      "cell_type": "code",
      "metadata": {
        "id": "nHLq5Bgf1oFz",
        "outputId": "ffbbad73-61c8-45db-9885-33db3c74033d",
        "colab": {
          "base_uri": "https://localhost:8080/",
          "height": 386
        }
      },
      "source": [
        "city_data.sort_values(['Profit'],ascending=False,inplace=True)\n",
        "city_data.head(10)"
      ],
      "execution_count": null,
      "outputs": [
        {
          "output_type": "execute_result",
          "data": {
            "text/html": [
              "<div>\n",
              "<style scoped>\n",
              "    .dataframe tbody tr th:only-of-type {\n",
              "        vertical-align: middle;\n",
              "    }\n",
              "\n",
              "    .dataframe tbody tr th {\n",
              "        vertical-align: top;\n",
              "    }\n",
              "\n",
              "    .dataframe thead th {\n",
              "        text-align: right;\n",
              "    }\n",
              "</style>\n",
              "<table border=\"1\" class=\"dataframe\">\n",
              "  <thead>\n",
              "    <tr style=\"text-align: right;\">\n",
              "      <th></th>\n",
              "      <th>Sales</th>\n",
              "      <th>Quantity</th>\n",
              "      <th>Profit</th>\n",
              "    </tr>\n",
              "    <tr>\n",
              "      <th>City</th>\n",
              "      <th></th>\n",
              "      <th></th>\n",
              "      <th></th>\n",
              "    </tr>\n",
              "  </thead>\n",
              "  <tbody>\n",
              "    <tr>\n",
              "      <th>New York City</th>\n",
              "      <td>256368.161</td>\n",
              "      <td>3417</td>\n",
              "      <td>62036.9837</td>\n",
              "    </tr>\n",
              "    <tr>\n",
              "      <th>Los Angeles</th>\n",
              "      <td>175851.341</td>\n",
              "      <td>2879</td>\n",
              "      <td>30440.7579</td>\n",
              "    </tr>\n",
              "    <tr>\n",
              "      <th>Seattle</th>\n",
              "      <td>119540.742</td>\n",
              "      <td>1590</td>\n",
              "      <td>29156.0967</td>\n",
              "    </tr>\n",
              "    <tr>\n",
              "      <th>San Francisco</th>\n",
              "      <td>112669.092</td>\n",
              "      <td>1935</td>\n",
              "      <td>17507.3854</td>\n",
              "    </tr>\n",
              "    <tr>\n",
              "      <th>Detroit</th>\n",
              "      <td>42446.944</td>\n",
              "      <td>441</td>\n",
              "      <td>13181.7908</td>\n",
              "    </tr>\n",
              "    <tr>\n",
              "      <th>Lafayette</th>\n",
              "      <td>25036.200</td>\n",
              "      <td>104</td>\n",
              "      <td>10018.3876</td>\n",
              "    </tr>\n",
              "    <tr>\n",
              "      <th>Jackson</th>\n",
              "      <td>24963.858</td>\n",
              "      <td>318</td>\n",
              "      <td>7581.6828</td>\n",
              "    </tr>\n",
              "    <tr>\n",
              "      <th>Atlanta</th>\n",
              "      <td>17197.840</td>\n",
              "      <td>156</td>\n",
              "      <td>6993.6629</td>\n",
              "    </tr>\n",
              "    <tr>\n",
              "      <th>Minneapolis</th>\n",
              "      <td>16870.540</td>\n",
              "      <td>80</td>\n",
              "      <td>6824.5846</td>\n",
              "    </tr>\n",
              "    <tr>\n",
              "      <th>San Diego</th>\n",
              "      <td>47521.029</td>\n",
              "      <td>670</td>\n",
              "      <td>6377.1960</td>\n",
              "    </tr>\n",
              "  </tbody>\n",
              "</table>\n",
              "</div>"
            ],
            "text/plain": [
              "                    Sales  Quantity      Profit\n",
              "City                                           \n",
              "New York City  256368.161      3417  62036.9837\n",
              "Los Angeles    175851.341      2879  30440.7579\n",
              "Seattle        119540.742      1590  29156.0967\n",
              "San Francisco  112669.092      1935  17507.3854\n",
              "Detroit         42446.944       441  13181.7908\n",
              "Lafayette       25036.200       104  10018.3876\n",
              "Jackson         24963.858       318   7581.6828\n",
              "Atlanta         17197.840       156   6993.6629\n",
              "Minneapolis     16870.540        80   6824.5846\n",
              "San Diego       47521.029       670   6377.1960"
            ]
          },
          "metadata": {
            "tags": []
          },
          "execution_count": 33
        }
      ]
    },
    {
      "cell_type": "code",
      "metadata": {
        "id": "ROYXddj216jl",
        "outputId": "d91c9354-3dd7-4e19-a408-7cfbf5b23826",
        "colab": {
          "base_uri": "https://localhost:8080/",
          "height": 356
        }
      },
      "source": [
        "city_data.head(10).plot(kind='bar')"
      ],
      "execution_count": null,
      "outputs": [
        {
          "output_type": "execute_result",
          "data": {
            "text/plain": [
              "<matplotlib.axes._subplots.AxesSubplot at 0x7f0a08b81198>"
            ]
          },
          "metadata": {
            "tags": []
          },
          "execution_count": 34
        },
        {
          "output_type": "display_data",
          "data": {
            "image/png": "[encoded data removed]",
            "text/plain": [
              "<Figure size 432x288 with 1 Axes>"
            ]
          },
          "metadata": {
            "tags": [],
            "needs_background": "light"
          }
        }
      ]
    },
    {
      "cell_type": "code",
      "metadata": {
        "id": "PC1A2kCu2ANc",
        "outputId": "c66b3ac8-ee59-45f9-82c4-3a7a9c32bd03",
        "colab": {
          "base_uri": "https://localhost:8080/",
          "height": 356
        }
      },
      "source": [
        "city_data['Profit'].head(10).plot(kind='bar')"
      ],
      "execution_count": null,
      "outputs": [
        {
          "output_type": "execute_result",
          "data": {
            "text/plain": [
              "<matplotlib.axes._subplots.AxesSubplot at 0x7f0a08ba9828>"
            ]
          },
          "metadata": {
            "tags": []
          },
          "execution_count": 35
        },
        {
          "output_type": "display_data",
          "data": {
            "image/png": "[encoded data removed]",
            "text/plain": [
              "<Figure size 432x288 with 1 Axes>"
            ]
          },
          "metadata": {
            "tags": [],
            "needs_background": "light"
          }
        }
      ]
    },
    {
      "cell_type": "code",
      "metadata": {
        "id": "gDIwgeyW2Kak"
      },
      "source": [
        ""
      ],
      "execution_count": null,
      "outputs": []
    },
    {
      "cell_type": "markdown",
      "metadata": {
        "id": "atvTMvum2XFd"
      },
      "source": [
        "# **Doing** **analysis** **based** **on** **furnitures**"
      ]
    },
    {
      "cell_type": "code",
      "metadata": {
        "id": "QCXNTk5g2hZx",
        "outputId": "30e9e2a4-4553-4b60-da1a-57e2e680a44e",
        "colab": {
          "base_uri": "https://localhost:8080/",
          "height": 386
        }
      },
      "source": [
        "furniture_data=data.groupby(['Category','Sub-Category']).sum()\n",
        "furniture_data.head(10)"
      ],
      "execution_count": null,
      "outputs": [
        {
          "output_type": "execute_result",
          "data": {
            "text/html": [
              "<div>\n",
              "<style scoped>\n",
              "    .dataframe tbody tr th:only-of-type {\n",
              "        vertical-align: middle;\n",
              "    }\n",
              "\n",
              "    .dataframe tbody tr th {\n",
              "        vertical-align: top;\n",
              "    }\n",
              "\n",
              "    .dataframe thead th {\n",
              "        text-align: right;\n",
              "    }\n",
              "</style>\n",
              "<table border=\"1\" class=\"dataframe\">\n",
              "  <thead>\n",
              "    <tr style=\"text-align: right;\">\n",
              "      <th></th>\n",
              "      <th></th>\n",
              "      <th>Row ID</th>\n",
              "      <th>Postal Code</th>\n",
              "      <th>Sales</th>\n",
              "      <th>Quantity</th>\n",
              "      <th>Discount</th>\n",
              "      <th>Profit</th>\n",
              "    </tr>\n",
              "    <tr>\n",
              "      <th>Category</th>\n",
              "      <th>Sub-Category</th>\n",
              "      <th></th>\n",
              "      <th></th>\n",
              "      <th></th>\n",
              "      <th></th>\n",
              "      <th></th>\n",
              "      <th></th>\n",
              "    </tr>\n",
              "  </thead>\n",
              "  <tbody>\n",
              "    <tr>\n",
              "      <th rowspan=\"4\" valign=\"top\">Furniture</th>\n",
              "      <th>Bookcases</th>\n",
              "      <td>1156535</td>\n",
              "      <td>12771539</td>\n",
              "      <td>114879.9963</td>\n",
              "      <td>868</td>\n",
              "      <td>48.14</td>\n",
              "      <td>-3472.5560</td>\n",
              "    </tr>\n",
              "    <tr>\n",
              "      <th>Chairs</th>\n",
              "      <td>3121503</td>\n",
              "      <td>34936229</td>\n",
              "      <td>328449.1030</td>\n",
              "      <td>2356</td>\n",
              "      <td>105.00</td>\n",
              "      <td>26590.1663</td>\n",
              "    </tr>\n",
              "    <tr>\n",
              "      <th>Furnishings</th>\n",
              "      <td>4842624</td>\n",
              "      <td>51880430</td>\n",
              "      <td>91705.1640</td>\n",
              "      <td>3563</td>\n",
              "      <td>132.40</td>\n",
              "      <td>13059.1436</td>\n",
              "    </tr>\n",
              "    <tr>\n",
              "      <th>Tables</th>\n",
              "      <td>1572664</td>\n",
              "      <td>18607828</td>\n",
              "      <td>206965.5320</td>\n",
              "      <td>1241</td>\n",
              "      <td>83.35</td>\n",
              "      <td>-17725.4811</td>\n",
              "    </tr>\n",
              "    <tr>\n",
              "      <th rowspan=\"6\" valign=\"top\">Office Supplies</th>\n",
              "      <th>Appliances</th>\n",
              "      <td>2407754</td>\n",
              "      <td>25250538</td>\n",
              "      <td>107532.1610</td>\n",
              "      <td>1729</td>\n",
              "      <td>77.60</td>\n",
              "      <td>18138.0054</td>\n",
              "    </tr>\n",
              "    <tr>\n",
              "      <th>Art</th>\n",
              "      <td>3920109</td>\n",
              "      <td>43329658</td>\n",
              "      <td>27118.7920</td>\n",
              "      <td>3000</td>\n",
              "      <td>59.60</td>\n",
              "      <td>6527.7870</td>\n",
              "    </tr>\n",
              "    <tr>\n",
              "      <th>Binders</th>\n",
              "      <td>7633935</td>\n",
              "      <td>83626398</td>\n",
              "      <td>203412.7330</td>\n",
              "      <td>5974</td>\n",
              "      <td>567.00</td>\n",
              "      <td>30221.7633</td>\n",
              "    </tr>\n",
              "    <tr>\n",
              "      <th>Envelopes</th>\n",
              "      <td>1207903</td>\n",
              "      <td>13325731</td>\n",
              "      <td>16476.4020</td>\n",
              "      <td>906</td>\n",
              "      <td>20.40</td>\n",
              "      <td>6964.1767</td>\n",
              "    </tr>\n",
              "    <tr>\n",
              "      <th>Fasteners</th>\n",
              "      <td>1017287</td>\n",
              "      <td>12506063</td>\n",
              "      <td>3024.2800</td>\n",
              "      <td>914</td>\n",
              "      <td>17.80</td>\n",
              "      <td>949.5182</td>\n",
              "    </tr>\n",
              "    <tr>\n",
              "      <th>Labels</th>\n",
              "      <td>1817254</td>\n",
              "      <td>19552985</td>\n",
              "      <td>12486.3120</td>\n",
              "      <td>1400</td>\n",
              "      <td>25.00</td>\n",
              "      <td>5546.2540</td>\n",
              "    </tr>\n",
              "  </tbody>\n",
              "</table>\n",
              "</div>"
            ],
            "text/plain": [
              "                               Row ID  Postal Code  ...  Discount      Profit\n",
              "Category        Sub-Category                        ...                      \n",
              "Furniture       Bookcases     1156535     12771539  ...     48.14  -3472.5560\n",
              "                Chairs        3121503     34936229  ...    105.00  26590.1663\n",
              "                Furnishings   4842624     51880430  ...    132.40  13059.1436\n",
              "                Tables        1572664     18607828  ...     83.35 -17725.4811\n",
              "Office Supplies Appliances    2407754     25250538  ...     77.60  18138.0054\n",
              "                Art           3920109     43329658  ...     59.60   6527.7870\n",
              "                Binders       7633935     83626398  ...    567.00  30221.7633\n",
              "                Envelopes     1207903     13325731  ...     20.40   6964.1767\n",
              "                Fasteners     1017287     12506063  ...     17.80    949.5182\n",
              "                Labels        1817254     19552985  ...     25.00   5546.2540\n",
              "\n",
              "[10 rows x 6 columns]"
            ]
          },
          "metadata": {
            "tags": []
          },
          "execution_count": 38
        }
      ]
    },
    {
      "cell_type": "markdown",
      "metadata": {
        "id": "L2x1MxVZ6BQ-"
      },
      "source": [
        "# **Grouping** **Category** **and** **Sub** **bold text**-**Category** **Together**"
      ]
    },
    {
      "cell_type": "code",
      "metadata": {
        "id": "CijvEWZ96NbG"
      },
      "source": [
        ""
      ],
      "execution_count": null,
      "outputs": []
    },
    {
      "cell_type": "code",
      "metadata": {
        "id": "k77N7BVW38Zx",
        "outputId": "32b5d812-30e3-4667-ab0c-fc9b4124e036",
        "colab": {
          "base_uri": "https://localhost:8080/",
          "height": 386
        }
      },
      "source": [
        "furniture_data=furniture_data.loc[:,['Sales','Profit']]\n",
        "furniture_data.head(10)"
      ],
      "execution_count": null,
      "outputs": [
        {
          "output_type": "execute_result",
          "data": {
            "text/html": [
              "<div>\n",
              "<style scoped>\n",
              "    .dataframe tbody tr th:only-of-type {\n",
              "        vertical-align: middle;\n",
              "    }\n",
              "\n",
              "    .dataframe tbody tr th {\n",
              "        vertical-align: top;\n",
              "    }\n",
              "\n",
              "    .dataframe thead th {\n",
              "        text-align: right;\n",
              "    }\n",
              "</style>\n",
              "<table border=\"1\" class=\"dataframe\">\n",
              "  <thead>\n",
              "    <tr style=\"text-align: right;\">\n",
              "      <th></th>\n",
              "      <th></th>\n",
              "      <th>Sales</th>\n",
              "      <th>Profit</th>\n",
              "    </tr>\n",
              "    <tr>\n",
              "      <th>Category</th>\n",
              "      <th>Sub-Category</th>\n",
              "      <th></th>\n",
              "      <th></th>\n",
              "    </tr>\n",
              "  </thead>\n",
              "  <tbody>\n",
              "    <tr>\n",
              "      <th rowspan=\"4\" valign=\"top\">Furniture</th>\n",
              "      <th>Bookcases</th>\n",
              "      <td>114879.9963</td>\n",
              "      <td>-3472.5560</td>\n",
              "    </tr>\n",
              "    <tr>\n",
              "      <th>Chairs</th>\n",
              "      <td>328449.1030</td>\n",
              "      <td>26590.1663</td>\n",
              "    </tr>\n",
              "    <tr>\n",
              "      <th>Furnishings</th>\n",
              "      <td>91705.1640</td>\n",
              "      <td>13059.1436</td>\n",
              "    </tr>\n",
              "    <tr>\n",
              "      <th>Tables</th>\n",
              "      <td>206965.5320</td>\n",
              "      <td>-17725.4811</td>\n",
              "    </tr>\n",
              "    <tr>\n",
              "      <th rowspan=\"6\" valign=\"top\">Office Supplies</th>\n",
              "      <th>Appliances</th>\n",
              "      <td>107532.1610</td>\n",
              "      <td>18138.0054</td>\n",
              "    </tr>\n",
              "    <tr>\n",
              "      <th>Art</th>\n",
              "      <td>27118.7920</td>\n",
              "      <td>6527.7870</td>\n",
              "    </tr>\n",
              "    <tr>\n",
              "      <th>Binders</th>\n",
              "      <td>203412.7330</td>\n",
              "      <td>30221.7633</td>\n",
              "    </tr>\n",
              "    <tr>\n",
              "      <th>Envelopes</th>\n",
              "      <td>16476.4020</td>\n",
              "      <td>6964.1767</td>\n",
              "    </tr>\n",
              "    <tr>\n",
              "      <th>Fasteners</th>\n",
              "      <td>3024.2800</td>\n",
              "      <td>949.5182</td>\n",
              "    </tr>\n",
              "    <tr>\n",
              "      <th>Labels</th>\n",
              "      <td>12486.3120</td>\n",
              "      <td>5546.2540</td>\n",
              "    </tr>\n",
              "  </tbody>\n",
              "</table>\n",
              "</div>"
            ],
            "text/plain": [
              "                                    Sales      Profit\n",
              "Category        Sub-Category                         \n",
              "Furniture       Bookcases     114879.9963  -3472.5560\n",
              "                Chairs        328449.1030  26590.1663\n",
              "                Furnishings    91705.1640  13059.1436\n",
              "                Tables        206965.5320 -17725.4811\n",
              "Office Supplies Appliances    107532.1610  18138.0054\n",
              "                Art            27118.7920   6527.7870\n",
              "                Binders       203412.7330  30221.7633\n",
              "                Envelopes      16476.4020   6964.1767\n",
              "                Fasteners       3024.2800    949.5182\n",
              "                Labels         12486.3120   5546.2540"
            ]
          },
          "metadata": {
            "tags": []
          },
          "execution_count": 39
        }
      ]
    },
    {
      "cell_type": "code",
      "metadata": {
        "id": "l4DlbUWe57pX",
        "outputId": "0f1d08d1-1f37-458e-9c88-81f0e421a34d",
        "colab": {
          "base_uri": "https://localhost:8080/",
          "height": 600
        }
      },
      "source": [
        "furniture_data.sort_values(['Profit'],ascending=False)"
      ],
      "execution_count": null,
      "outputs": [
        {
          "output_type": "execute_result",
          "data": {
            "text/html": [
              "<div>\n",
              "<style scoped>\n",
              "    .dataframe tbody tr th:only-of-type {\n",
              "        vertical-align: middle;\n",
              "    }\n",
              "\n",
              "    .dataframe tbody tr th {\n",
              "        vertical-align: top;\n",
              "    }\n",
              "\n",
              "    .dataframe thead th {\n",
              "        text-align: right;\n",
              "    }\n",
              "</style>\n",
              "<table border=\"1\" class=\"dataframe\">\n",
              "  <thead>\n",
              "    <tr style=\"text-align: right;\">\n",
              "      <th></th>\n",
              "      <th></th>\n",
              "      <th>Sales</th>\n",
              "      <th>Profit</th>\n",
              "    </tr>\n",
              "    <tr>\n",
              "      <th>Category</th>\n",
              "      <th>Sub-Category</th>\n",
              "      <th></th>\n",
              "      <th></th>\n",
              "    </tr>\n",
              "  </thead>\n",
              "  <tbody>\n",
              "    <tr>\n",
              "      <th rowspan=\"3\" valign=\"top\">Technology</th>\n",
              "      <th>Copiers</th>\n",
              "      <td>149528.0300</td>\n",
              "      <td>55617.8249</td>\n",
              "    </tr>\n",
              "    <tr>\n",
              "      <th>Phones</th>\n",
              "      <td>330007.0540</td>\n",
              "      <td>44515.7306</td>\n",
              "    </tr>\n",
              "    <tr>\n",
              "      <th>Accessories</th>\n",
              "      <td>167380.3180</td>\n",
              "      <td>41936.6357</td>\n",
              "    </tr>\n",
              "    <tr>\n",
              "      <th rowspan=\"2\" valign=\"top\">Office Supplies</th>\n",
              "      <th>Paper</th>\n",
              "      <td>78479.2060</td>\n",
              "      <td>34053.5693</td>\n",
              "    </tr>\n",
              "    <tr>\n",
              "      <th>Binders</th>\n",
              "      <td>203412.7330</td>\n",
              "      <td>30221.7633</td>\n",
              "    </tr>\n",
              "    <tr>\n",
              "      <th>Furniture</th>\n",
              "      <th>Chairs</th>\n",
              "      <td>328449.1030</td>\n",
              "      <td>26590.1663</td>\n",
              "    </tr>\n",
              "    <tr>\n",
              "      <th rowspan=\"2\" valign=\"top\">Office Supplies</th>\n",
              "      <th>Storage</th>\n",
              "      <td>223843.6080</td>\n",
              "      <td>21278.8264</td>\n",
              "    </tr>\n",
              "    <tr>\n",
              "      <th>Appliances</th>\n",
              "      <td>107532.1610</td>\n",
              "      <td>18138.0054</td>\n",
              "    </tr>\n",
              "    <tr>\n",
              "      <th>Furniture</th>\n",
              "      <th>Furnishings</th>\n",
              "      <td>91705.1640</td>\n",
              "      <td>13059.1436</td>\n",
              "    </tr>\n",
              "    <tr>\n",
              "      <th rowspan=\"3\" valign=\"top\">Office Supplies</th>\n",
              "      <th>Envelopes</th>\n",
              "      <td>16476.4020</td>\n",
              "      <td>6964.1767</td>\n",
              "    </tr>\n",
              "    <tr>\n",
              "      <th>Art</th>\n",
              "      <td>27118.7920</td>\n",
              "      <td>6527.7870</td>\n",
              "    </tr>\n",
              "    <tr>\n",
              "      <th>Labels</th>\n",
              "      <td>12486.3120</td>\n",
              "      <td>5546.2540</td>\n",
              "    </tr>\n",
              "    <tr>\n",
              "      <th>Technology</th>\n",
              "      <th>Machines</th>\n",
              "      <td>189238.6310</td>\n",
              "      <td>3384.7569</td>\n",
              "    </tr>\n",
              "    <tr>\n",
              "      <th rowspan=\"2\" valign=\"top\">Office Supplies</th>\n",
              "      <th>Fasteners</th>\n",
              "      <td>3024.2800</td>\n",
              "      <td>949.5182</td>\n",
              "    </tr>\n",
              "    <tr>\n",
              "      <th>Supplies</th>\n",
              "      <td>46673.5380</td>\n",
              "      <td>-1189.0995</td>\n",
              "    </tr>\n",
              "    <tr>\n",
              "      <th rowspan=\"2\" valign=\"top\">Furniture</th>\n",
              "      <th>Bookcases</th>\n",
              "      <td>114879.9963</td>\n",
              "      <td>-3472.5560</td>\n",
              "    </tr>\n",
              "    <tr>\n",
              "      <th>Tables</th>\n",
              "      <td>206965.5320</td>\n",
              "      <td>-17725.4811</td>\n",
              "    </tr>\n",
              "  </tbody>\n",
              "</table>\n",
              "</div>"
            ],
            "text/plain": [
              "                                    Sales      Profit\n",
              "Category        Sub-Category                         \n",
              "Technology      Copiers       149528.0300  55617.8249\n",
              "                Phones        330007.0540  44515.7306\n",
              "                Accessories   167380.3180  41936.6357\n",
              "Office Supplies Paper          78479.2060  34053.5693\n",
              "                Binders       203412.7330  30221.7633\n",
              "Furniture       Chairs        328449.1030  26590.1663\n",
              "Office Supplies Storage       223843.6080  21278.8264\n",
              "                Appliances    107532.1610  18138.0054\n",
              "Furniture       Furnishings    91705.1640  13059.1436\n",
              "Office Supplies Envelopes      16476.4020   6964.1767\n",
              "                Art            27118.7920   6527.7870\n",
              "                Labels         12486.3120   5546.2540\n",
              "Technology      Machines      189238.6310   3384.7569\n",
              "Office Supplies Fasteners       3024.2800    949.5182\n",
              "                Supplies       46673.5380  -1189.0995\n",
              "Furniture       Bookcases     114879.9963  -3472.5560\n",
              "                Tables        206965.5320 -17725.4811"
            ]
          },
          "metadata": {
            "tags": []
          },
          "execution_count": 40
        }
      ]
    },
    {
      "cell_type": "code",
      "metadata": {
        "id": "niWtS4xA6Yhh",
        "outputId": "c759eacb-806d-4ccf-9771-6c2d3a87abad",
        "colab": {
          "base_uri": "https://localhost:8080/",
          "height": 283
        }
      },
      "source": [
        "furniture_data.head(10).plot(kind='barh')"
      ],
      "execution_count": null,
      "outputs": [
        {
          "output_type": "execute_result",
          "data": {
            "text/plain": [
              "<matplotlib.axes._subplots.AxesSubplot at 0x7f0a08923be0>"
            ]
          },
          "metadata": {
            "tags": []
          },
          "execution_count": 42
        },
        {
          "output_type": "display_data",
          "data": {
            "image/png": "[encoded data removed]",
            "text/plain": [
              "<Figure size 432x288 with 1 Axes>"
            ]
          },
          "metadata": {
            "tags": [],
            "needs_background": "light"
          }
        }
      ]
    },
    {
      "cell_type": "code",
      "metadata": {
        "id": "lcJk6OMC6ezT"
      },
      "source": [
        ""
      ],
      "execution_count": null,
      "outputs": []
    }
  ]
}